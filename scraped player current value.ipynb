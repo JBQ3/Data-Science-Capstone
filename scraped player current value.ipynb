{
 "cells": [
  {
   "cell_type": "markdown",
   "metadata": {},
   "source": [
    "# Get Current Player Transfer Value"
   ]
  },
  {
   "cell_type": "code",
   "execution_count": 3,
   "metadata": {},
   "outputs": [],
   "source": [
    "import requests\n",
    "from bs4 import BeautifulSoup4 as soup\n",
    "\n",
    "import pandas as pd"
   ]
  },
  {
   "cell_type": "markdown",
   "metadata": {},
   "source": [
    "### Code template for scraping"
   ]
  },
  {
   "cell_type": "code",
   "execution_count": null,
   "metadata": {},
   "outputs": [],
   "source": [
    "headers = {'User-Agent': \n",
    "           'Mozilla/5.0 (X11; Linux x86_64) AppleWebKit/537.36 (KHTML, like Gecko) Chrome/47.0.2526.106 Safari/537.36'}\n",
    "\n",
    "page = \"\"\n",
    "\n",
    "\n",
    "pageTree = requests.get(page, headers=headers)\n",
    "pageSoup = soup(pageTree.content, 'html.parser')"
   ]
  },
  {
   "cell_type": "code",
   "execution_count": null,
   "metadata": {},
   "outputs": [],
   "source": [
    " = pageSoup.find_all(\"a\", {\"class\": \"spielprofil_tooltip\"})\n",
    "\n",
    "\n",
    "[0].text"
   ]
  },
  {
   "cell_type": "code",
   "execution_count": null,
   "metadata": {},
   "outputs": [],
   "source": [
    "Values = pageSoup.find_all(\"td\", {\"class\": \"rechts hauptlink\"})\n",
    "\n",
    "Values[0].text"
   ]
  },
  {
   "cell_type": "code",
   "execution_count": null,
   "metadata": {},
   "outputs": [],
   "source": [
    "PlayersList = []\n",
    "ValuesList = []\n",
    "\n",
    "for i in range(0,25):\n",
    "    PlayersList.append([i].text)\n",
    "    ValuesList.append(Values[i].text)\n",
    "    \n",
    "_df = pd.DataFrame({\"\":PlayersList,\"worth\":ValuesList})\n",
    "\n",
    "_df\n",
    "\n",
    "_df.to_csv(\"player Data\", sep='\\t')"
   ]
  },
  {
   "cell_type": "markdown",
   "metadata": {},
   "source": [
    "### Left Backs "
   ]
  },
  {
   "cell_type": "code",
   "execution_count": 64,
   "metadata": {},
   "outputs": [],
   "source": [
    "headers = {'User-Agent': \n",
    "           'Mozilla/5.0 (X11; Linux x86_64) AppleWebKit/537.36 (KHTML, like Gecko) Chrome/47.0.2526.106 Safari/537.36'}\n",
    "# Get Left Back transfer values\n",
    "page = \"https://www.transfermarkt.co.uk/premier-league/marktwerte/wettbewerb/GB1/plus/1/galerie/0?pos=&detailpos=4&altersklasse=alle\"\n",
    "pageTree = requests.get(page, headers=headers)\n",
    "pageSoup = soup(pageTree.content, 'html.parser')"
   ]
  },
  {
   "cell_type": "code",
   "execution_count": 65,
   "metadata": {},
   "outputs": [
    {
     "data": {
      "text/plain": [
       "'Mohamed Salah'"
      ]
     },
     "execution_count": 65,
     "metadata": {},
     "output_type": "execute_result"
    }
   ],
   "source": [
    "LB = pageSoup.find_all(\"a\", {\"class\": \"spielprofil_tooltip\"})\n",
    "\n",
    "#Let's look at the first name in the Players list.\n",
    "LB[0].text"
   ]
  },
  {
   "cell_type": "code",
   "execution_count": 66,
   "metadata": {},
   "outputs": [
    {
     "data": {
      "text/plain": [
       "'£54.00m\\xa0'"
      ]
     },
     "execution_count": 66,
     "metadata": {},
     "output_type": "execute_result"
    }
   ],
   "source": [
    "LBValues = pageSoup.find_all(\"td\", {\"class\": \"rechts hauptlink\"})\n",
    "\n",
    "LBValues[0].text"
   ]
  },
  {
   "cell_type": "code",
   "execution_count": 67,
   "metadata": {},
   "outputs": [],
   "source": [
    "LBPlayersList = []\n",
    "LBValuesList = []\n",
    "\n",
    "for i in range(0,25):\n",
    "    LBPlayersList.append(LB[i].text)\n",
    "    LBValuesList.append(LBValues1[i].text)\n",
    "    \n",
    "LB_df = pd.DataFrame({\"Left Back\":LBPlayersList,\"worth\":LBValuesList})\n",
    "\n",
    "LB_df\n",
    "\n",
    "LB_df.to_csv(\"Left Back Data\", sep='\\t')\n",
    "\n",
    "\n",
    "# Remove 1st left back and move every name up 1 cell"
   ]
  },
  {
   "cell_type": "markdown",
   "metadata": {},
   "source": [
    "### Right Backs"
   ]
  },
  {
   "cell_type": "code",
   "execution_count": 68,
   "metadata": {},
   "outputs": [],
   "source": [
    "headers = {'User-Agent': \n",
    "           'Mozilla/5.0 (X11; Linux x86_64) AppleWebKit/537.36 (KHTML, like Gecko) Chrome/47.0.2526.106 Safari/537.36'}\n",
    "# Get Right Back transfer values\n",
    "page = \"https://www.transfermarkt.co.uk/premier-league/marktwerte/wettbewerb/GB1/plus/1/galerie/0?pos=&detailpos=5&altersklasse=alle\"\n",
    "pageTree = requests.get(page, headers=headers)\n",
    "pageSoup = soup(pageTree.content, 'html.parser')"
   ]
  },
  {
   "cell_type": "code",
   "execution_count": 69,
   "metadata": {},
   "outputs": [
    {
     "data": {
      "text/plain": [
       "'Mohamed Salah'"
      ]
     },
     "execution_count": 69,
     "metadata": {},
     "output_type": "execute_result"
    }
   ],
   "source": [
    "RB = pageSoup.find_all(\"a\", {\"class\": \"spielprofil_tooltip\"})\n",
    "\n",
    "#Let's look at the first name in the Players list.\n",
    "RB[0].text"
   ]
  },
  {
   "cell_type": "code",
   "execution_count": 70,
   "metadata": {},
   "outputs": [
    {
     "data": {
      "text/plain": [
       "'£72.00m\\xa0'"
      ]
     },
     "execution_count": 70,
     "metadata": {},
     "output_type": "execute_result"
    }
   ],
   "source": [
    "RBValues = pageSoup.find_all(\"td\", {\"class\": \"rechts hauptlink\"})\n",
    "\n",
    "RBValues[0].text"
   ]
  },
  {
   "cell_type": "code",
   "execution_count": 71,
   "metadata": {},
   "outputs": [],
   "source": [
    "RBPlayersList = []\n",
    "RBValuesList = []\n",
    "\n",
    "for i in range(0,25):\n",
    "    RBPlayersList.append(RB[i].text)\n",
    "    RBValuesList.append(RBValues[i].text)\n",
    "    \n",
    "RB_df = pd.DataFrame({\"Right Back\":RBPlayersList,\"worth\":RBValuesList})\n",
    "\n",
    "RB_df\n",
    "\n",
    "RB_df.to_csv(\"Right Back Data\", sep='\\t')\n"
   ]
  },
  {
   "cell_type": "markdown",
   "metadata": {},
   "source": [
    "### Center backs"
   ]
  },
  {
   "cell_type": "code",
   "execution_count": 48,
   "metadata": {},
   "outputs": [],
   "source": [
    "headers = {'User-Agent': \n",
    "           'Mozilla/5.0 (X11; Linux x86_64) AppleWebKit/537.36 (KHTML, like Gecko) Chrome/47.0.2526.106 Safari/537.36'}\n",
    "\n",
    "page = \"https://www.transfermarkt.co.uk/premier-league/marktwerte/wettbewerb/GB1/plus/1/galerie/0?pos=&detailpos=3&altersklasse=alle\"\n",
    "\n",
    "\n",
    "pageTree = requests.get(page, headers=headers)\n",
    "pageSoup = soup(pageTree.content, 'html.parser')"
   ]
  },
  {
   "cell_type": "code",
   "execution_count": 49,
   "metadata": {},
   "outputs": [
    {
     "data": {
      "text/plain": [
       "'Mohamed Salah'"
      ]
     },
     "execution_count": 49,
     "metadata": {},
     "output_type": "execute_result"
    }
   ],
   "source": [
    "CB = pageSoup.find_all(\"a\", {\"class\": \"spielprofil_tooltip\"})\n",
    "\n",
    "#Let's look at the first name in the Players list.\n",
    "CB[0].text"
   ]
  },
  {
   "cell_type": "code",
   "execution_count": 50,
   "metadata": {},
   "outputs": [
    {
     "data": {
      "text/plain": [
       "'£90.00m\\xa0'"
      ]
     },
     "execution_count": 50,
     "metadata": {},
     "output_type": "execute_result"
    }
   ],
   "source": [
    "CBValues = pageSoup.find_all(\"td\", {\"class\": \"rechts hauptlink\"})\n",
    "\n",
    "CBValues[0].text"
   ]
  },
  {
   "cell_type": "code",
   "execution_count": 57,
   "metadata": {},
   "outputs": [],
   "source": [
    "CBPlayersList = []\n",
    "CBValuesList = []\n",
    "\n",
    "for i in range(0,25):\n",
    "    CBPlayersList.append(CB[i].text)\n",
    "    CBValuesList.append(CBValues[i].text)\n",
    "    \n",
    "CB_df = pd.DataFrame({\"Center Back\":CBPlayersList,\"worth\":CBValuesList})\n",
    "\n",
    "CB_df.to_csv(\"Center Back Data\", sep='\\t')"
   ]
  },
  {
   "cell_type": "markdown",
   "metadata": {},
   "source": [
    "### Goalkeeper "
   ]
  },
  {
   "cell_type": "code",
   "execution_count": 80,
   "metadata": {},
   "outputs": [],
   "source": [
    "headers = {'User-Agent': \n",
    "           'Mozilla/5.0 (X11; Linux x86_64) AppleWebKit/537.36 (KHTML, like Gecko) Chrome/47.0.2526.106 Safari/537.36'}\n",
    "\n",
    "page = \"https://www.transfermarkt.co.uk/premier-league/marktwerte/wettbewerb/GB1/plus/1/galerie/0?pos=&detailpos=1&altersklasse=alle\"\n",
    "\n",
    "pageTree = requests.get(page, headers=headers)\n",
    "pageSoup = soup(pageTree.content, 'html.parser')"
   ]
  },
  {
   "cell_type": "code",
   "execution_count": 81,
   "metadata": {},
   "outputs": [
    {
     "data": {
      "text/plain": [
       "'Harry Kane'"
      ]
     },
     "execution_count": 81,
     "metadata": {},
     "output_type": "execute_result"
    }
   ],
   "source": [
    "GK = pageSoup.find_all(\"a\", {\"class\": \"spielprofil_tooltip\"})\n",
    "\n",
    "\n",
    "GK[0].text"
   ]
  },
  {
   "cell_type": "code",
   "execution_count": 82,
   "metadata": {},
   "outputs": [
    {
     "data": {
      "text/plain": [
       "'£72.00m\\xa0'"
      ]
     },
     "execution_count": 82,
     "metadata": {},
     "output_type": "execute_result"
    }
   ],
   "source": [
    "GKValues = pageSoup.find_all(\"td\", {\"class\": \"rechts hauptlink\"})\n",
    "\n",
    "GKValues[0].text"
   ]
  },
  {
   "cell_type": "code",
   "execution_count": 86,
   "metadata": {},
   "outputs": [],
   "source": [
    "GKPlayersList = []\n",
    "GKValuesList = []\n",
    "\n",
    "for i in range(0,25):\n",
    "    GKPlayersList.append(GK[i].text)\n",
    "    GKValuesList.append(GKValues[i].text)\n",
    "    \n",
    "GK_df = pd.DataFrame({\"Goalkeeper\":GKPlayersList,\"worth\":GKValuesList})\n",
    "\n",
    "GK_df\n",
    "\n",
    "GK_df.to_csv(\"Goalie Data\", sep='\\t')"
   ]
  },
  {
   "cell_type": "markdown",
   "metadata": {},
   "source": [
    "### Central Defensive Midfield"
   ]
  },
  {
   "cell_type": "code",
   "execution_count": 72,
   "metadata": {},
   "outputs": [],
   "source": [
    "headers = {'User-Agent': \n",
    "           'Mozilla/5.0 (X11; Linux x86_64) AppleWebKit/537.36 (KHTML, like Gecko) Chrome/47.0.2526.106 Safari/537.36'}\n",
    "\n",
    "page = \"https://www.transfermarkt.co.uk/premier-league/marktwerte/wettbewerb/GB1/plus/1/galerie/0?pos=&detailpos=6&altersklasse=alle\"\n",
    "\n",
    "\n",
    "pageTree = requests.get(page, headers=headers)\n",
    "pageSoup = soup(pageTree.content, 'html.parser')"
   ]
  },
  {
   "cell_type": "code",
   "execution_count": 73,
   "metadata": {},
   "outputs": [
    {
     "data": {
      "text/plain": [
       "'Harry Kane'"
      ]
     },
     "execution_count": 73,
     "metadata": {},
     "output_type": "execute_result"
    }
   ],
   "source": [
    "CDM = pageSoup.find_all(\"a\", {\"class\": \"spielprofil_tooltip\"})\n",
    "\n",
    "\n",
    "CDM[0].text"
   ]
  },
  {
   "cell_type": "code",
   "execution_count": 74,
   "metadata": {},
   "outputs": [
    {
     "data": {
      "text/plain": [
       "'£72.00m\\xa0'"
      ]
     },
     "execution_count": 74,
     "metadata": {},
     "output_type": "execute_result"
    }
   ],
   "source": [
    "CDMValues = pageSoup.find_all(\"td\", {\"class\": \"rechts hauptlink\"})\n",
    "\n",
    "CDMValues[0].text"
   ]
  },
  {
   "cell_type": "code",
   "execution_count": 75,
   "metadata": {},
   "outputs": [],
   "source": [
    "CDMPlayersList = []\n",
    "CDMValuesList = []\n",
    "\n",
    "for i in range(0,25):\n",
    "    CDMPlayersList.append(CDM[i].text)\n",
    "    CDMValuesList.append(CDMValues[i].text)\n",
    "    \n",
    "CDM_df = pd.DataFrame({\"Central defensive midfielders\":CDMPlayersList,\"worth\":CDMValuesList})\n",
    "\n",
    "CDM_df\n",
    "\n",
    "CDM_df.to_csv(\"player Data\", sep='\\t')"
   ]
  },
  {
   "cell_type": "markdown",
   "metadata": {},
   "source": [
    "### Central Midfield"
   ]
  },
  {
   "cell_type": "code",
   "execution_count": 87,
   "metadata": {},
   "outputs": [],
   "source": [
    "headers = {'User-Agent': \n",
    "           'Mozilla/5.0 (X11; Linux x86_64) AppleWebKit/537.36 (KHTML, like Gecko) Chrome/47.0.2526.106 Safari/537.36'}\n",
    "\n",
    "page = \"https://www.transfermarkt.co.uk/premier-league/marktwerte/wettbewerb/GB1/plus/1/galerie/0?pos=&detailpos=7&altersklasse=alle\"\n",
    "\n",
    "\n",
    "pageTree = requests.get(page, headers=headers)\n",
    "pageSoup = soup(pageTree.content, 'html.parser')"
   ]
  },
  {
   "cell_type": "code",
   "execution_count": 88,
   "metadata": {},
   "outputs": [
    {
     "data": {
      "text/plain": [
       "'Harry Kane'"
      ]
     },
     "execution_count": 88,
     "metadata": {},
     "output_type": "execute_result"
    }
   ],
   "source": [
    "CM = pageSoup.find_all(\"a\", {\"class\": \"spielprofil_tooltip\"})\n",
    "\n",
    "\n",
    "CM[0].text"
   ]
  },
  {
   "cell_type": "code",
   "execution_count": 89,
   "metadata": {},
   "outputs": [
    {
     "data": {
      "text/plain": [
       "'£90.00m\\xa0'"
      ]
     },
     "execution_count": 89,
     "metadata": {},
     "output_type": "execute_result"
    }
   ],
   "source": [
    "CMValues = pageSoup.find_all(\"td\", {\"class\": \"rechts hauptlink\"})\n",
    "\n",
    "CMValues[0].text"
   ]
  },
  {
   "cell_type": "code",
   "execution_count": 90,
   "metadata": {},
   "outputs": [],
   "source": [
    "CMPlayersList = []\n",
    "CMValuesList = []\n",
    "\n",
    "for i in range(0,25):\n",
    "    CMPlayersList.append(CM[i].text)\n",
    "    CMValuesList.append(CMValues[i].text)\n",
    "    \n",
    "CM_df = pd.DataFrame({\"Central Midfielder\":CMPlayersList,\"worth\":CMValuesList})\n",
    "\n",
    "CM_df\n",
    "\n",
    "CM_df.to_csv(\"Central midfield Data\", sep='\\t')"
   ]
  },
  {
   "cell_type": "markdown",
   "metadata": {},
   "source": [
    "### Left Midfield"
   ]
  },
  {
   "cell_type": "code",
   "execution_count": 91,
   "metadata": {},
   "outputs": [],
   "source": [
    "headers = {'User-Agent': \n",
    "           'Mozilla/5.0 (X11; Linux x86_64) AppleWebKit/537.36 (KHTML, like Gecko) Chrome/47.0.2526.106 Safari/537.36'}\n",
    "\n",
    "page = \"https://www.transfermarkt.co.uk/premier-league/marktwerte/wettbewerb/GB1/plus/1/galerie/0?pos=&detailpos=9&altersklasse=alle\"\n",
    "\n",
    "\n",
    "pageTree = requests.get(page, headers=headers)\n",
    "pageSoup = soup(pageTree.content, 'html.parser')"
   ]
  },
  {
   "cell_type": "code",
   "execution_count": 92,
   "metadata": {},
   "outputs": [
    {
     "data": {
      "text/plain": [
       "'Harry Kane'"
      ]
     },
     "execution_count": 92,
     "metadata": {},
     "output_type": "execute_result"
    }
   ],
   "source": [
    "LM= pageSoup.find_all(\"a\", {\"class\": \"spielprofil_tooltip\"})\n",
    "\n",
    "\n",
    "LM[0].text"
   ]
  },
  {
   "cell_type": "code",
   "execution_count": 93,
   "metadata": {},
   "outputs": [
    {
     "data": {
      "text/plain": [
       "'£31.50m\\xa0'"
      ]
     },
     "execution_count": 93,
     "metadata": {},
     "output_type": "execute_result"
    }
   ],
   "source": [
    "LMValues = pageSoup.find_all(\"td\", {\"class\": \"rechts hauptlink\"})\n",
    "\n",
    "LMValues[0].text"
   ]
  },
  {
   "cell_type": "code",
   "execution_count": 96,
   "metadata": {},
   "outputs": [],
   "source": [
    "LMPlayersList = []\n",
    "LMValuesList = []\n",
    "\n",
    "for i in range(0,6):\n",
    "    LMPlayersList.append(LM[i].text)\n",
    "    LMValuesList.append(LMValues[i].text)\n",
    "    \n",
    "LM_df = pd.DataFrame({\"Left Midfielders\":LMPlayersList,\"worth\":LMValuesList})\n",
    "\n",
    "LM_df\n",
    "\n",
    "LM_df.to_csv(\"Left Midfield Data\", sep='\\t')"
   ]
  },
  {
   "cell_type": "markdown",
   "metadata": {},
   "source": [
    "### Right Midfield"
   ]
  },
  {
   "cell_type": "code",
   "execution_count": null,
   "metadata": {},
   "outputs": [],
   "source": [
    "headers = {'User-Agent': \n",
    "           'Mozilla/5.0 (X11; Linux x86_64) AppleWebKit/537.36 (KHTML, like Gecko) Chrome/47.0.2526.106 Safari/537.36'}\n",
    "\n",
    "page = \"https://www.transfermarkt.co.uk/premier-league/marktwerte/wettbewerb/GB1/plus/1/galerie/0?pos=&detailpos=8&altersklasse=alle\"\n",
    "\n",
    "\n",
    "pageTree = requests.get(page, headers=headers)\n",
    "pageSoup = soup(pageTree.content, 'html.parser')"
   ]
  },
  {
   "cell_type": "code",
   "execution_count": null,
   "metadata": {},
   "outputs": [],
   "source": [
    "RM = pageSoup.find_all(\"a\", {\"class\": \"spielprofil_tooltip\"})\n",
    "\n",
    "\n",
    "RM[0].text"
   ]
  },
  {
   "cell_type": "code",
   "execution_count": null,
   "metadata": {},
   "outputs": [],
   "source": [
    "RMValues = pageSoup.find_all(\"td\", {\"class\": \"rechts hauptlink\"})\n",
    "\n",
    "RMValues[0].text"
   ]
  },
  {
   "cell_type": "code",
   "execution_count": null,
   "metadata": {},
   "outputs": [],
   "source": [
    "RMPlayersList = []\n",
    "RMValuesList = []\n",
    "\n",
    "for i in range(0,25):\n",
    "    RMPlayersList.append(RM[i].text)\n",
    "    RMValuesList.append(RMValues[i].text)\n",
    "    \n",
    "RM_df = pd.DataFrame({\"\":RMPlayersList,\"worth\":RMValuesList})\n",
    "\n",
    "RM_df\n",
    "\n",
    "RM_df.to_csv(\"Right Midfield Data\", sep='\\t')"
   ]
  },
  {
   "cell_type": "markdown",
   "metadata": {},
   "source": [
    "### Central Attacking Midfield"
   ]
  },
  {
   "cell_type": "code",
   "execution_count": null,
   "metadata": {},
   "outputs": [],
   "source": [
    "headers = {'User-Agent': \n",
    "           'Mozilla/5.0 (X11; Linux x86_64) AppleWebKit/537.36 (KHTML, like Gecko) Chrome/47.0.2526.106 Safari/537.36'}\n",
    "\n",
    "page = \"https://www.transfermarkt.co.uk/premier-league/marktwerte/wettbewerb/GB1/plus/1/galerie/0?pos=&detailpos=10&altersklasse=alle\"\n",
    "\n",
    "\n",
    "pageTree = requests.get(page, headers=headers)\n",
    "pageSoup = soup(pageTree.content, 'html.parser')"
   ]
  },
  {
   "cell_type": "code",
   "execution_count": null,
   "metadata": {},
   "outputs": [],
   "source": [
    "CAM = pageSoup.find_all(\"a\", {\"class\": \"spielprofil_tooltip\"})\n",
    "\n",
    "\n",
    "CAM[0].text"
   ]
  },
  {
   "cell_type": "code",
   "execution_count": null,
   "metadata": {},
   "outputs": [],
   "source": [
    "CAMValues = pageSoup.find_all(\"td\", {\"class\": \"rechts hauptlink\"})\n",
    "\n",
    "CAMValues[0].text"
   ]
  },
  {
   "cell_type": "code",
   "execution_count": null,
   "metadata": {},
   "outputs": [],
   "source": [
    "CAMPlayersList = []\n",
    "CAMValuesList = []\n",
    "\n",
    "for i in range(0,25):\n",
    "    CAMPlayersList.append(CAM[i].text)\n",
    "    CAMValuesList.append(CAMValues[i].text)\n",
    "    \n",
    "CAM_df = pd.DataFrame({\"\":CAMPlayersList,\"worth\":CAMValuesList})\n",
    "\n",
    "CAM_df\n",
    "\n",
    "CAM_df.to_csv(\"Central attacking mid Data\", sep='\\t')"
   ]
  },
  {
   "cell_type": "markdown",
   "metadata": {},
   "source": [
    "### Right Winger"
   ]
  },
  {
   "cell_type": "code",
   "execution_count": null,
   "metadata": {},
   "outputs": [],
   "source": [
    "headers = {'User-Agent': \n",
    "           'Mozilla/5.0 (X11; Linux x86_64) AppleWebKit/537.36 (KHTML, like Gecko) Chrome/47.0.2526.106 Safari/537.36'}\n",
    "\n",
    "page = \"https://www.transfermarkt.co.uk/premier-league/marktwerte/wettbewerb/GB1/plus/1/galerie/0?pos=&detailpos=12&altersklasse=alle\"\n",
    "\n",
    "\n",
    "pageTree = requests.get(page, headers=headers)\n",
    "pageSoup = soup(pageTree.content, 'html.parser')"
   ]
  },
  {
   "cell_type": "code",
   "execution_count": null,
   "metadata": {},
   "outputs": [],
   "source": [
    "RW = pageSoup.find_all(\"a\", {\"class\": \"spielprofil_tooltip\"})\n",
    "\n",
    "\n",
    "RW[0].text"
   ]
  },
  {
   "cell_type": "code",
   "execution_count": null,
   "metadata": {},
   "outputs": [],
   "source": [
    "RWValues = pageSoup.find_all(\"td\", {\"class\": \"rechts hauptlink\"})\n",
    "\n",
    "RWValues[0].text"
   ]
  },
  {
   "cell_type": "code",
   "execution_count": null,
   "metadata": {},
   "outputs": [],
   "source": [
    "RWPlayersList = []\n",
    "RWValuesList = []\n",
    "\n",
    "for i in range(0,25):\n",
    "    RWPlayersList.append(RW[i].text)\n",
    "    RWValuesList.append(RWValues[i].text)\n",
    "    \n",
    "RW_df = pd.DataFrame({\"Right Wingers\":RWPlayersList,\"worth\":RWValuesList})\n",
    "\n",
    "RW_df\n",
    "\n",
    "RW_df.to_csv(\"Right Winger Data\", sep='\\t')"
   ]
  },
  {
   "cell_type": "markdown",
   "metadata": {},
   "source": [
    "### Left Winger"
   ]
  },
  {
   "cell_type": "code",
   "execution_count": null,
   "metadata": {},
   "outputs": [],
   "source": [
    "headers = {'User-Agent': \n",
    "           'Mozilla/5.0 (X11; Linux x86_64) AppleWebKit/537.36 (KHTML, like Gecko) Chrome/47.0.2526.106 Safari/537.36'}\n",
    "\n",
    "page = \"https://www.transfermarkt.co.uk/premier-league/marktwerte/wettbewerb/GB1/plus/1/galerie/0?pos=&detailpos=11&altersklasse=alle\"\n",
    "\n",
    "\n",
    "pageTree = requests.get(page, headers=headers)\n",
    "pageSoup = soup(pageTree.content, 'html.parser')"
   ]
  },
  {
   "cell_type": "code",
   "execution_count": null,
   "metadata": {},
   "outputs": [],
   "source": [
    "LW = pageSoup.find_all(\"a\", {\"class\": \"spielprofil_tooltip\"})\n",
    "\n",
    "\n",
    "LW[0].text"
   ]
  },
  {
   "cell_type": "code",
   "execution_count": null,
   "metadata": {},
   "outputs": [],
   "source": [
    "LWValues = pageSoup.find_all(\"td\", {\"class\": \"rechts hauptlink\"})\n",
    "\n",
    "LWValues[0].text"
   ]
  },
  {
   "cell_type": "code",
   "execution_count": null,
   "metadata": {},
   "outputs": [],
   "source": [
    "LWPlayersList = []\n",
    "LWValuesList = []\n",
    "\n",
    "for i in range(0,25):\n",
    "    LWPlayersList.append(LW[i].text)\n",
    "    LWValuesList.append(LWValues[i].text)\n",
    "    \n",
    "LW_df = pd.DataFrame({\"Left Winger\":LWPlayersList,\"worth\":LWValuesList})\n",
    "\n",
    "LW_df\n",
    "\n",
    "LW_df.to_csv(\"Left Winger Data\", sep='\\t')"
   ]
  },
  {
   "cell_type": "markdown",
   "metadata": {},
   "source": [
    "### Striker"
   ]
  },
  {
   "cell_type": "code",
   "execution_count": null,
   "metadata": {},
   "outputs": [],
   "source": [
    "headers = {'User-Agent': \n",
    "           'Mozilla/5.0 (X11; Linux x86_64) AppleWebKit/537.36 (KHTML, like Gecko) Chrome/47.0.2526.106 Safari/537.36'}\n",
    "\n",
    "page = \"https://www.transfermarkt.co.uk/premier-league/marktwerte/wettbewerb/GB1/plus/1/galerie/0?pos=&detailpos=14&altersklasse=alle\"\n",
    "\n",
    "\n",
    "pageTree = requests.get(page, headers=headers)\n",
    "pageSoup = soup(pageTree.content, 'html.parser')"
   ]
  },
  {
   "cell_type": "code",
   "execution_count": null,
   "metadata": {},
   "outputs": [],
   "source": [
    "Striker = pageSoup.find_all(\"a\", {\"class\": \"spielprofil_tooltip\"})\n",
    "\n",
    "\n",
    "Striker[0].text"
   ]
  },
  {
   "cell_type": "code",
   "execution_count": null,
   "metadata": {},
   "outputs": [],
   "source": [
    "StrikerValues = pageSoup.find_all(\"td\", {\"class\": \"rechts hauptlink\"})\n",
    "\n",
    "StrikerValues[0].text"
   ]
  },
  {
   "cell_type": "code",
   "execution_count": null,
   "metadata": {},
   "outputs": [],
   "source": [
    "StrikerPlayersList = []\n",
    "StrikerValuesList = []\n",
    "\n",
    "for i in range(0,25):\n",
    "    StrikerPlayersList.append(Striker[i].text)\n",
    "    StrikerValuesList.append(StrikerValues[i].text)\n",
    "    \n",
    "Striker_df = pd.DataFrame({\"Strikers\":StrikerPlayersList,\"worth\":StrikerValuesList})\n",
    "\n",
    "Striker_df\n",
    "\n",
    "Striker_df.to_csv(\"Striker Data\", sep='\\t')"
   ]
  }
 ],
 "metadata": {
  "kernelspec": {
   "display_name": "Python 3",
   "language": "python",
   "name": "python3"
  },
  "language_info": {
   "codemirror_mode": {
    "name": "ipython",
    "version": 3
   },
   "file_extension": ".py",
   "mimetype": "text/x-python",
   "name": "python",
   "nbconvert_exporter": "python",
   "pygments_lexer": "ipython3",
   "version": "3.7.3"
  }
 },
 "nbformat": 4,
 "nbformat_minor": 2
}
